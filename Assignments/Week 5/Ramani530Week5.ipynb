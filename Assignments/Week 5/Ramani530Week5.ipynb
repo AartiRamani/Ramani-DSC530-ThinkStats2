{
 "cells": [
  {
   "cell_type": "markdown",
   "id": "6693e604",
   "metadata": {},
   "source": [
    "# Week 5 - Assignment 5.1"
   ]
  },
  {
   "cell_type": "code",
   "execution_count": 56,
   "id": "fd723462",
   "metadata": {},
   "outputs": [],
   "source": [
    "# 5.1 - In the BRFSS (see “The lognormal Distribution” on page 55), \n",
    "#the distribution of heights is roughly normal with parameters \n",
    "#μ = 178 cm and σ=7.7 cm for men, and μ = 163cm and σ=7.3cm for women.\n",
    "#In order to join Blue Man Group, you have to be male and between \n",
    "#5′10″ and 6′1″ tall. \n",
    "#What percentage of the US male population is in this range? \n",
    "#Hint: use scipy.stats.norm.cdf."
   ]
  },
  {
   "cell_type": "code",
   "execution_count": 3,
   "id": "d2e3e9f2",
   "metadata": {},
   "outputs": [],
   "source": [
    "from os.path import basename, exists\n",
    "\n",
    "\n",
    "def download(url):\n",
    "    filename = basename(url)\n",
    "    if not exists(filename):\n",
    "        from urllib.request import urlretrieve\n",
    "\n",
    "        local, _ = urlretrieve(url, filename)\n",
    "        print(\"Downloaded \" + local)\n",
    "        \n",
    "download(\"https://github.com/AllenDowney/ThinkStats2/raw/master/code/thinkstats2.py\")\n",
    "download(\"https://github.com/AllenDowney/ThinkStats2/raw/master/code/thinkplot.py\")\n",
    "download(\"https://github.com/AllenDowney/ThinkStats2/raw/master/code/brfss.py\")\n",
    "download(\"https://github.com/AllenDowney/ThinkStats2/raw/master/code/CDBRFS08.ASC.gz\")\n",
    "download(\"https://github.com/AllenDowney/ThinkStats2/raw/master/code/hinc.py\")\n",
    "download(\"https://github.com/AllenDowney/ThinkStats2/raw/master/code/hinc06.csv\")"
   ]
  },
  {
   "cell_type": "code",
   "execution_count": 4,
   "id": "823cd924",
   "metadata": {},
   "outputs": [],
   "source": [
    "import thinkstats2\n",
    "import thinkplot\n",
    "import numpy as np\n",
    "import brfss\n",
    "import scipy.stats\n",
    "\n",
    "df = brfss.ReadBrfss() "
   ]
  },
  {
   "cell_type": "code",
   "execution_count": 5,
   "id": "b4425778",
   "metadata": {},
   "outputs": [
    {
     "data": {
      "text/plain": [
       "(178.0, 7.7)"
      ]
     },
     "execution_count": 5,
     "metadata": {},
     "output_type": "execute_result"
    }
   ],
   "source": [
    "mu = 178\n",
    "sigma = 7.7\n",
    "dt = scipy.stats.norm(loc=mu, scale=sigma) \n",
    "dt.mean(), dt.std() "
   ]
  },
  {
   "cell_type": "code",
   "execution_count": 14,
   "id": "189f0997",
   "metadata": {},
   "outputs": [
    {
     "data": {
      "text/plain": [
       "(0.48963902786483265, 0.8317337108107857)"
      ]
     },
     "execution_count": 14,
     "metadata": {},
     "output_type": "execute_result"
    }
   ],
   "source": [
    "#How many people are between 5'10\" and 6'1\"\n",
    "#5'10 = 177.8 cms, 6'1 = 185.4 cms\n",
    "dt.cdf(177.8) , dt.cdf(185.4)"
   ]
  },
  {
   "cell_type": "code",
   "execution_count": 15,
   "id": "f5fc868f",
   "metadata": {},
   "outputs": [
    {
     "data": {
      "text/plain": [
       "0.3420946829459531"
      ]
     },
     "execution_count": 15,
     "metadata": {},
     "output_type": "execute_result"
    }
   ],
   "source": [
    "dt.cdf(185.4) - dt.cdf(177.8)"
   ]
  },
  {
   "cell_type": "code",
   "execution_count": 7,
   "id": "b7e0258f",
   "metadata": {},
   "outputs": [
    {
     "data": {
      "text/plain": [
       "0.1586552539314574"
      ]
     },
     "execution_count": 7,
     "metadata": {},
     "output_type": "execute_result"
    }
   ],
   "source": [
    "#What percentage of the US =-population is in this range?\n",
    "dt.cdf(mu - sigma)\n",
    "#mu-sigma is around 0.159. US male population within \n",
    "#the 5'10 to 6'1 range is around 16%"
   ]
  },
  {
   "cell_type": "markdown",
   "id": "ee4c8388",
   "metadata": {},
   "source": [
    "# Week 5 - Assignment 5.2\n"
   ]
  },
  {
   "cell_type": "code",
   "execution_count": 9,
   "id": "2953baf1",
   "metadata": {},
   "outputs": [],
   "source": [
    "#To get a feel for the Pareto distribution, \n",
    "#let’s see how different the world would be if the\n",
    "#distribution of human height were Pareto. \n",
    "#With the parameters xm=1 m and α=1.7, we get a distribution \n",
    "#with a reasonable minimum, 1 m, and median, 1.5 m.\n",
    "#Plot this distribution. \n",
    "# What is the mean human height in Pareto world? \n",
    "# What fraction of the population is shorter than the mean? \n",
    "# If there are 7 billion people in Pareto world,\n",
    "# How many do we expect to be taller than 1 km? \n",
    "# How tall do we expect the tallest person to be?"
   ]
  },
  {
   "cell_type": "code",
   "execution_count": 10,
   "id": "f1d16f91",
   "metadata": {},
   "outputs": [
    {
     "data": {
      "text/plain": [
       "1.5034066538560549"
      ]
     },
     "execution_count": 10,
     "metadata": {},
     "output_type": "execute_result"
    }
   ],
   "source": [
    "scipy.stats.pareto.stats(1)\n",
    "\n",
    "alpha = 1.7\n",
    "min_ht = 1  # meter\n",
    "med = 1.5\n",
    "\n",
    "ht = scipy.stats.pareto(b=alpha, scale=min_ht)\n",
    "ht.median()"
   ]
  },
  {
   "cell_type": "code",
   "execution_count": 11,
   "id": "d087c3a5",
   "metadata": {},
   "outputs": [
    {
     "data": {
      "text/plain": [
       "2.428571428571429"
      ]
     },
     "execution_count": 11,
     "metadata": {},
     "output_type": "execute_result"
    }
   ],
   "source": [
    "# What is the mean height in Pareto world?\n",
    "ht.mean()"
   ]
  },
  {
   "cell_type": "code",
   "execution_count": 13,
   "id": "27b96a36",
   "metadata": {},
   "outputs": [
    {
     "data": {
      "text/plain": [
       "0.778739697565288"
      ]
     },
     "execution_count": 13,
     "metadata": {},
     "output_type": "execute_result"
    }
   ],
   "source": [
    "#What fraction of the population is shorter than the mean? \n",
    "ht.cdf(ht.mean())"
   ]
  },
  {
   "cell_type": "code",
   "execution_count": 18,
   "id": "4cf57f78",
   "metadata": {},
   "outputs": [
    {
     "data": {
      "text/plain": [
       "(55602.976430479954, 55602.97643069972)"
      ]
     },
     "execution_count": 18,
     "metadata": {},
     "output_type": "execute_result"
    }
   ],
   "source": [
    "# If there are 7 billion people in Pareto world,\n",
    "# How many do we expect to be taller than 1 km?\n",
    "# 1km = 1000m\n",
    "1 - ht.cdf(1000)\n",
    "# (1 - ht.cdf(1000))*7000000000 (7 billion)\n",
    "(1 - ht.cdf(1000)) * 7e9 , ht.sf(1000) * 7e9"
   ]
  },
  {
   "cell_type": "code",
   "execution_count": 64,
   "id": "6f02facd",
   "metadata": {},
   "outputs": [
    {
     "data": {
      "text/plain": [
       "1.0525455861201714"
      ]
     },
     "execution_count": 64,
     "metadata": {},
     "output_type": "execute_result"
    }
   ],
   "source": [
    "#How tall do we expect the tallest person to be?\n",
    "# One way to solve this is to search for a height that we\n",
    "# expect one person out of 7 billion to exceed.\n",
    "# It comes in at roughly 600 kilometers. \n",
    "# 600 Kms = 600000m\n",
    "ht.sf(600000) * 7e9  "
   ]
  },
  {
   "cell_type": "code",
   "execution_count": 21,
   "id": "ac98aaad",
   "metadata": {},
   "outputs": [
    {
     "data": {
      "text/plain": [
       "618349.6106759505"
      ]
     },
     "execution_count": 21,
     "metadata": {},
     "output_type": "execute_result"
    }
   ],
   "source": [
    "# Solution\n",
    "\n",
    "# Another way is to use `ppf`, which evaluates the \n",
    "#\"percent point function\", which is the inverse CDF. \n",
    "#So we can compute the height in meters that corresponds to\n",
    "# the probability (1 - 1/7e9).\n",
    "\n",
    "ht.ppf(1 - 1 / 7e9)"
   ]
  },
  {
   "cell_type": "markdown",
   "id": "c7ffc568",
   "metadata": {},
   "source": [
    "# Week 5 - Assignment 6.1"
   ]
  },
  {
   "cell_type": "code",
   "execution_count": 32,
   "id": "49443036",
   "metadata": {},
   "outputs": [],
   "source": [
    "#The distribution of income is famously skewed to the right. \n",
    "#In this exercise, we’ll measure how strong that skew is.\n",
    "#The Current Population Survey (CPS) is a joint effort of the \n",
    "#Bureau of Labor Statistics and the Census Bureau to study income \n",
    "#and related variables. Data collected in 2013 is\n",
    "#available from the Census Burea’s website. \n",
    "#I downloaded hinc06.xls, which is an Excel\n",
    "#spreadsheet with information about household income, and converted it to\n",
    "#hinc06.csv, a CSV file you will find in the repository for this book. \n",
    "#You will also find hinc2.py, which reads this file and transforms the data.\n",
    "#The dataset is in the form of a series of income ranges and the number of respondents\n",
    "#who fell in each range. The lowest range includes respondents who reported annual\n",
    "#household income “Under $5000.” The highest range includes respondents who made\n",
    "#“$250,000 or more.”\n",
    "#To estimate mean and other statistics from these data, we have to make some assump‐\n",
    "#tions about the lower and upper bounds, and how the values are distributed in each\n",
    "#range. hinc2.py provides InterpolateSample, which shows one way to model this data.\n",
    "#It takes a DataFrame with a column, income, that contains the upper bound of each\n",
    "#range, and freq, which contains the number of respondents in each frame.\n",
    "#It also takes log_upper, which is an assumed upper bound on the highest range, ex‐\n",
    "#pressed in log10 dollars. The default value, log_upper=6.0 represents the assumption\n",
    "#that the largest income among the respondents is 106\n",
    "#, or one million dollars."
   ]
  },
  {
   "cell_type": "code",
   "execution_count": 22,
   "id": "1115144c",
   "metadata": {},
   "outputs": [],
   "source": [
    "import hinc \n",
    "import numpy as np\n",
    "\n",
    "income_df = hinc.ReadData()"
   ]
  },
  {
   "cell_type": "code",
   "execution_count": 23,
   "id": "d1dd2309",
   "metadata": {},
   "outputs": [],
   "source": [
    "def InterpolateSample(df, log_upper=6.0):\n",
    "    \"\"\"Makes a sample of log10 household income.\n",
    "\n",
    "    Assumes that log10 income is uniform in each range.\n",
    "\n",
    "    df: DataFrame with columns income and freq\n",
    "    log_upper: log10 of the assumed upper bound for the highest range\n",
    "\n",
    "    returns: NumPy array of log10 household income\n",
    "    \"\"\"\n",
    "    # compute the log10 of the upper bound for each range\n",
    "    df['log_upper'] = np.log10(df.income)\n",
    "\n",
    "    # get the lower bounds by shifting the upper bound and filling in\n",
    "    # the first element\n",
    "    df['log_lower'] = df.log_upper.shift(1)\n",
    "    df.loc[0, 'log_lower'] = 3.0\n",
    "\n",
    "    # plug in a value for the unknown upper bound of the highest range\n",
    "    df.loc[41, 'log_upper'] = log_upper\n",
    "    \n",
    "    # use the freq column to generate the right number of values in\n",
    "    # each range\n",
    "    arrays = []\n",
    "    for _, row in df.iterrows():\n",
    "        vals = np.linspace(row.log_lower, row.log_upper, int(row.freq))\n",
    "        arrays.append(vals)\n",
    "\n",
    "    # collect the arrays into a single sample\n",
    "    log_sample = np.concatenate(arrays)\n",
    "    return log_sample"
   ]
  },
  {
   "cell_type": "code",
   "execution_count": 24,
   "id": "3b57e926",
   "metadata": {},
   "outputs": [],
   "source": [
    "#76 | Chapter 6: Probability Density Functions\n",
    "#www.it-ebooks.info\n",
    "#InterpolateSample generates a pseudo-sample; that is, \n",
    "#a sample of household incomes that yields the same number \n",
    "#of respondents in each range as the actual data. \n",
    "#It assumes that incomes in each range are equally spaced on a log10 scale."
   ]
  },
  {
   "cell_type": "code",
   "execution_count": 25,
   "id": "d0993dfe",
   "metadata": {},
   "outputs": [
    {
     "data": {
      "image/png": "[encoded data removed]",
      "text/plain": [
       "<Figure size 640x480 with 1 Axes>"
      ]
     },
     "metadata": {},
     "output_type": "display_data"
    }
   ],
   "source": [
    "log_data = InterpolateSample(income_df, log_upper=6.0)\n",
    "cdf_log = thinkstats2.Cdf(log_data)\n",
    "thinkplot.Cdf(cdf_log)\n",
    "thinkplot.Config(xlabel='Household income (log $)',\n",
    "               ylabel='CDF')"
   ]
  },
  {
   "cell_type": "code",
   "execution_count": 49,
   "id": "9b018188",
   "metadata": {},
   "outputs": [
    {
     "data": {
      "image/png": "[encoded data removed]",
      "text/plain": [
       "<Figure size 640x480 with 1 Axes>"
      ]
     },
     "metadata": {},
     "output_type": "display_data"
    }
   ],
   "source": [
    "log_sample = np.power(10, log_data)\n",
    "cdf = thinkstats2.Cdf(log_sample)\n",
    "thinkplot.Cdf(cdf)\n",
    "thinkplot.Config(xlabel='Household income ($)',\n",
    "               ylabel='CDF')"
   ]
  },
  {
   "cell_type": "code",
   "execution_count": 39,
   "id": "4dae64fb",
   "metadata": {},
   "outputs": [],
   "source": [
    "def Median(dr):\n",
    "    cdf = thinkstats2.Cdf(dr)\n",
    "    return cdf.Value(0.5)"
   ]
  },
  {
   "cell_type": "code",
   "execution_count": 40,
   "id": "e6eba7d5",
   "metadata": {},
   "outputs": [],
   "source": [
    "def Mean(dr):\n",
    "    return RawMoment(dr, 1)"
   ]
  },
  {
   "cell_type": "code",
   "execution_count": 41,
   "id": "8e5ec963",
   "metadata": {},
   "outputs": [],
   "source": [
    "def RawMoment(dr, r):\n",
    "    return sum(x**r for x in dr) / len(dr)"
   ]
  },
  {
   "cell_type": "code",
   "execution_count": 42,
   "id": "79292544",
   "metadata": {},
   "outputs": [],
   "source": [
    "def CentralMoment(dr, r):\n",
    "    mean = RawMoment(dr, 1)\n",
    "    return sum((x - mean)**r for x in dr) / len(dr)"
   ]
  },
  {
   "cell_type": "code",
   "execution_count": 43,
   "id": "8c580e19",
   "metadata": {},
   "outputs": [],
   "source": [
    "def Var(dr):\n",
    "    return CentralMoment(dr, 2)"
   ]
  },
  {
   "cell_type": "code",
   "execution_count": 44,
   "id": "efec5c07",
   "metadata": {},
   "outputs": [],
   "source": [
    "def PearsonMedianSkewness(dr):\n",
    "    median = Median(dr)\n",
    "    mean = RawMoment(dr, 1)\n",
    "    var = CentralMoment(dr, 2)\n",
    "    std = np.sqrt(var)\n",
    "    gp = 3 * (mean - median) / std\n",
    "    return gp"
   ]
  },
  {
   "cell_type": "code",
   "execution_count": 45,
   "id": "00b9a2da",
   "metadata": {},
   "outputs": [],
   "source": [
    "def StandardizedMoment(dr, x):\n",
    "    var = CentralMoment(dr, 2)\n",
    "    std = np.sqrt(var)\n",
    "    return CentralMoment(dr, x) / std**x"
   ]
  },
  {
   "cell_type": "code",
   "execution_count": 46,
   "id": "f31085f8",
   "metadata": {},
   "outputs": [],
   "source": [
    "def Skewness(dr):\n",
    "    return StandardizedMoment(dr, 3)"
   ]
  },
  {
   "cell_type": "code",
   "execution_count": 71,
   "id": "41313f79",
   "metadata": {},
   "outputs": [
    {
     "data": {
      "text/plain": [
       "(74278.70753118733, 51226.45447894046, 4.949920244429583, 0.7361258019141782)"
      ]
     },
     "execution_count": 71,
     "metadata": {},
     "output_type": "execute_result"
    }
   ],
   "source": [
    "#Compute the median, mean, skewness and Pearson’s skewness of the resulting sample.\n",
    "(Mean(log_sample),  Median(log_sample), Skewness(log_sample), \n",
    "PearsonMedianSkewness(log_sample))"
   ]
  },
  {
   "cell_type": "code",
   "execution_count": 69,
   "id": "6efab61e",
   "metadata": {},
   "outputs": [
    {
     "data": {
      "image/png": "[encoded data removed]",
      "text/plain": [
       "<Figure size 640x480 with 1 Axes>"
      ]
     },
     "metadata": {},
     "output_type": "display_data"
    },
    {
     "name": "stdout",
     "output_type": "stream",
     "text": [
      "mean 74278.7075311872\n",
      "std 93946.92996347835\n",
      "median 51226.45447894046\n",
      "skewness 4.949920244429583\n",
      "pearson skewness 0.7361258019141782\n"
     ]
    },
    {
     "data": {
      "text/plain": [
       "(74278.7075311872, 51226.45447894046)"
      ]
     },
     "execution_count": 69,
     "metadata": {},
     "output_type": "execute_result"
    },
    {
     "data": {
      "text/plain": [
       "<Figure size 800x600 with 0 Axes>"
      ]
     },
     "metadata": {},
     "output_type": "display_data"
    }
   ],
   "source": [
    "# Solution goes here\n",
    "import density as dn\n",
    "  \n",
    "thinkplot.Cdf(cdf_log)\n",
    "thinkplot.Show(xlabel='Household Income',ylabel='CDF')\n",
    "#dn.Summarize(log_data)\n",
    "dn.Summarize(log_sample)"
   ]
  },
  {
   "cell_type": "code",
   "execution_count": 53,
   "id": "0b489ffa",
   "metadata": {},
   "outputs": [
    {
     "data": {
      "text/plain": [
       "0.660005879566872"
      ]
     },
     "execution_count": 53,
     "metadata": {},
     "output_type": "execute_result"
    }
   ],
   "source": [
    "#What fraction of households reports a taxable income below the mean? \n",
    "\n",
    "cdf.Prob(Mean(log_sample))\n",
    "# 66% of households reports a taxable income below the mean"
   ]
  },
  {
   "cell_type": "code",
   "execution_count": 55,
   "id": "af158c95",
   "metadata": {},
   "outputs": [
    {
     "data": {
      "image/png": "[encoded data removed]",
      "text/plain": [
       "<Figure size 640x480 with 1 Axes>"
      ]
     },
     "metadata": {},
     "output_type": "display_data"
    },
    {
     "data": {
      "text/plain": [
       "<Figure size 800x600 with 0 Axes>"
      ]
     },
     "metadata": {},
     "output_type": "display_data"
    }
   ],
   "source": [
    "#How do the results depend on the assumed upper bound? \n",
    "\n",
    "#All of this is based on an assumption that the highest income  \n",
    "#is one million dollars, but that's certainly not correct. \n",
    "#What happens to the skew if the upper bound is 10 million?\n",
    "\n",
    "pdf = thinkstats2.EstimatedPdf(log_sample)\n",
    "thinkplot.Pdf(pdf)\n",
    "thinkplot.Show(xlabel='Household Income',ylabel='PDF')"
   ]
  },
  {
   "cell_type": "code",
   "execution_count": 105,
   "id": "bd35ecd5",
   "metadata": {},
   "outputs": [],
   "source": [
    "#Without better information about the top of this distribution, \n",
    "#we can't say much about the skewness of the distribution."
   ]
  }
 ],
 "metadata": {
  "kernelspec": {
   "display_name": "Python 3 (ipykernel)",
   "language": "python",
   "name": "python3"
  },
  "language_info": {
   "codemirror_mode": {
    "name": "ipython",
    "version": 3
   },
   "file_extension": ".py",
   "mimetype": "text/x-python",
   "name": "python",
   "nbconvert_exporter": "python",
   "pygments_lexer": "ipython3",
   "version": "3.9.13"
  }
 },
 "nbformat": 4,
 "nbformat_minor": 5
}
